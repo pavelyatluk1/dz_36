{
 "cells": [
  {
   "cell_type": "markdown",
   "id": "2dbf1cff",
   "metadata": {},
   "source": [
    "#### Pavlo Yatluk\n",
    "#### dz_36_1"
   ]
  },
  {
   "cell_type": "markdown",
   "id": "3cdb5db8",
   "metadata": {},
   "source": [
    "### ЗАВДАННЯ"
   ]
  },
  {
   "cell_type": "markdown",
   "id": "ba60e82e",
   "metadata": {},
   "source": [
    "#### Проведіть крос-валідацію для моделі, побудованої на основі датафрейму student_score з попереднього завдання. Обгрунтуйте обраний метод крос-валідації."
   ]
  },
  {
   "cell_type": "code",
   "execution_count": 2,
   "id": "5d991f29",
   "metadata": {},
   "outputs": [],
   "source": [
    "import pandas as pd\n",
    "import numpy as np\n",
    "from sklearn.model_selection import KFold, StratifiedKFold, cross_val_score\n",
    "from sklearn import linear_model, tree, ensemble"
   ]
  },
  {
   "cell_type": "code",
   "execution_count": 3,
   "id": "54a2dc1f",
   "metadata": {},
   "outputs": [
    {
     "data": {
      "text/html": [
       "<div>\n",
       "<style scoped>\n",
       "    .dataframe tbody tr th:only-of-type {\n",
       "        vertical-align: middle;\n",
       "    }\n",
       "\n",
       "    .dataframe tbody tr th {\n",
       "        vertical-align: top;\n",
       "    }\n",
       "\n",
       "    .dataframe thead th {\n",
       "        text-align: right;\n",
       "    }\n",
       "</style>\n",
       "<table border=\"1\" class=\"dataframe\">\n",
       "  <thead>\n",
       "    <tr style=\"text-align: right;\">\n",
       "      <th></th>\n",
       "      <th>Hours</th>\n",
       "      <th>Scores</th>\n",
       "    </tr>\n",
       "  </thead>\n",
       "  <tbody>\n",
       "    <tr>\n",
       "      <th>0</th>\n",
       "      <td>2.5</td>\n",
       "      <td>21</td>\n",
       "    </tr>\n",
       "    <tr>\n",
       "      <th>1</th>\n",
       "      <td>5.1</td>\n",
       "      <td>47</td>\n",
       "    </tr>\n",
       "    <tr>\n",
       "      <th>2</th>\n",
       "      <td>3.2</td>\n",
       "      <td>27</td>\n",
       "    </tr>\n",
       "    <tr>\n",
       "      <th>3</th>\n",
       "      <td>8.5</td>\n",
       "      <td>75</td>\n",
       "    </tr>\n",
       "    <tr>\n",
       "      <th>4</th>\n",
       "      <td>3.5</td>\n",
       "      <td>30</td>\n",
       "    </tr>\n",
       "  </tbody>\n",
       "</table>\n",
       "</div>"
      ],
      "text/plain": [
       "   Hours  Scores\n",
       "0    2.5      21\n",
       "1    5.1      47\n",
       "2    3.2      27\n",
       "3    8.5      75\n",
       "4    3.5      30"
      ]
     },
     "execution_count": 3,
     "metadata": {},
     "output_type": "execute_result"
    }
   ],
   "source": [
    "train_data = pd.read_excel(r\"C:\\Users\\Pavel\\Documents\\GitHub\\PDS1\\Lesson 35\\student_scores.xlsx\")\n",
    "train_data.head()"
   ]
  },
  {
   "cell_type": "code",
   "execution_count": 4,
   "id": "9f9f9018",
   "metadata": {},
   "outputs": [],
   "source": [
    "X = train_data[['Hours']]\n",
    "y = train_data['Scores']"
   ]
  },
  {
   "cell_type": "markdown",
   "id": "2cabbeda",
   "metadata": {},
   "source": [
    "### K-fold Cross Validation"
   ]
  },
  {
   "cell_type": "code",
   "execution_count": 8,
   "id": "8d234f17",
   "metadata": {},
   "outputs": [
    {
     "name": "stdout",
     "output_type": "stream",
     "text": [
      "Fold: 1, Train set: 20, Test set: 5\n",
      "Fold: 2, Train set: 20, Test set: 5\n",
      "Fold: 3, Train set: 20, Test set: 5\n",
      "Fold: 4, Train set: 20, Test set: 5\n",
      "Fold: 5, Train set: 20, Test set: 5\n"
     ]
    }
   ],
   "source": [
    "kf = KFold(n_splits=5, shuffle=True, random_state=42)\n",
    "cnt = 1\n",
    "for train_index, test_index in kf.split(X, y):\n",
    "    print(f'Fold: {cnt}, Train set: {len(train_index)}, Test set: {len(test_index)}')\n",
    "    cnt+=1"
   ]
  },
  {
   "cell_type": "markdown",
   "id": "f58d977f",
   "metadata": {},
   "source": [
    "#### Функція для визначення якості крос-валідаційної моделі."
   ]
  },
  {
   "cell_type": "code",
   "execution_count": 9,
   "id": "c391f936",
   "metadata": {},
   "outputs": [],
   "source": [
    "def rmse(score):\n",
    "    rmse = np.sqrt(-score)\n",
    "    print(f'rmse= {\"{:.2f}\".format(rmse)}')"
   ]
  },
  {
   "cell_type": "markdown",
   "id": "eeadb95d",
   "metadata": {},
   "source": [
    "#### Лінійна регресія"
   ]
  },
  {
   "cell_type": "code",
   "execution_count": 10,
   "id": "189e2654",
   "metadata": {},
   "outputs": [
    {
     "name": "stdout",
     "output_type": "stream",
     "text": [
      "Score for fold: [-18.94321172 -25.59134275 -65.56533746 -31.60146724 -29.95977935]\n",
      "rmse= 5.86\n"
     ]
    }
   ],
   "source": [
    "score = cross_val_score(linear_model.LinearRegression(), X, y, cv=kf, scoring=\"neg_mean_squared_error\")\n",
    "print(f\"Score for fold: {score}\")\n",
    "rmse(score.mean())"
   ]
  },
  {
   "cell_type": "markdown",
   "id": "3b4c4a31",
   "metadata": {},
   "source": [
    "#### Дерево прийняття рішень"
   ]
  },
  {
   "cell_type": "code",
   "execution_count": 11,
   "id": "253ea2a7",
   "metadata": {},
   "outputs": [
    {
     "name": "stdout",
     "output_type": "stream",
     "text": [
      "Score for fold: [ -31.7  -66.6 -124.6  -23.2 -103.4]\n",
      "rmse= 8.36\n"
     ]
    }
   ],
   "source": [
    "score = cross_val_score(tree.DecisionTreeRegressor(random_state=42), X, y, cv=kf, scoring=\"neg_mean_squared_error\")\n",
    "print(f\"Score for fold: {score}\")\n",
    "rmse(score.mean())"
   ]
  },
  {
   "cell_type": "markdown",
   "id": "2ba91aa3",
   "metadata": {},
   "source": [
    "#### Запускаємо стратифіковану К-факторну валідацію"
   ]
  },
  {
   "cell_type": "code",
   "execution_count": 7,
   "id": "ab0376e5",
   "metadata": {},
   "outputs": [
    {
     "name": "stdout",
     "output_type": "stream",
     "text": [
      "Fold:1, Train set: 16, Test set:9\n",
      "Fold:2, Train set: 17, Test set:8\n",
      "Fold:3, Train set: 17, Test set:8\n"
     ]
    },
    {
     "name": "stderr",
     "output_type": "stream",
     "text": [
      "C:\\Users\\Pavel\\AppData\\Local\\Programs\\Python\\Python310\\lib\\site-packages\\sklearn\\model_selection\\_split.py:700: UserWarning: The least populated class in y has only 1 members, which is less than n_splits=3.\n",
      "  warnings.warn(\n"
     ]
    }
   ],
   "source": [
    "kf = StratifiedKFold(n_splits=3, shuffle=True, random_state=42)\n",
    "cnt=1\n",
    "for train_index, test_index in kf.split(X, y):\n",
    "    print(f'Fold:{cnt}, Train set: {len(train_index)}, Test set:{len(test_index)}')\n",
    "    cnt+=1"
   ]
  },
  {
   "cell_type": "code",
   "execution_count": 8,
   "id": "3552b227",
   "metadata": {},
   "outputs": [
    {
     "name": "stdout",
     "output_type": "stream",
     "text": [
      "Scores for each fold are: [0.11111111 0.125      0.125     ]\n",
      "Average score: 0.12\n"
     ]
    },
    {
     "name": "stderr",
     "output_type": "stream",
     "text": [
      "C:\\Users\\Pavel\\AppData\\Local\\Programs\\Python\\Python310\\lib\\site-packages\\sklearn\\model_selection\\_split.py:700: UserWarning: The least populated class in y has only 1 members, which is less than n_splits=3.\n",
      "  warnings.warn(\n",
      "C:\\Users\\Pavel\\AppData\\Local\\Programs\\Python\\Python310\\lib\\site-packages\\sklearn\\linear_model\\_logistic.py:458: ConvergenceWarning: lbfgs failed to converge (status=1):\n",
      "STOP: TOTAL NO. of ITERATIONS REACHED LIMIT.\n",
      "\n",
      "Increase the number of iterations (max_iter) or scale the data as shown in:\n",
      "    https://scikit-learn.org/stable/modules/preprocessing.html\n",
      "Please also refer to the documentation for alternative solver options:\n",
      "    https://scikit-learn.org/stable/modules/linear_model.html#logistic-regression\n",
      "  n_iter_i = _check_optimize_result(\n",
      "C:\\Users\\Pavel\\AppData\\Local\\Programs\\Python\\Python310\\lib\\site-packages\\sklearn\\linear_model\\_logistic.py:458: ConvergenceWarning: lbfgs failed to converge (status=1):\n",
      "STOP: TOTAL NO. of ITERATIONS REACHED LIMIT.\n",
      "\n",
      "Increase the number of iterations (max_iter) or scale the data as shown in:\n",
      "    https://scikit-learn.org/stable/modules/preprocessing.html\n",
      "Please also refer to the documentation for alternative solver options:\n",
      "    https://scikit-learn.org/stable/modules/linear_model.html#logistic-regression\n",
      "  n_iter_i = _check_optimize_result(\n",
      "C:\\Users\\Pavel\\AppData\\Local\\Programs\\Python\\Python310\\lib\\site-packages\\sklearn\\linear_model\\_logistic.py:458: ConvergenceWarning: lbfgs failed to converge (status=1):\n",
      "STOP: TOTAL NO. of ITERATIONS REACHED LIMIT.\n",
      "\n",
      "Increase the number of iterations (max_iter) or scale the data as shown in:\n",
      "    https://scikit-learn.org/stable/modules/preprocessing.html\n",
      "Please also refer to the documentation for alternative solver options:\n",
      "    https://scikit-learn.org/stable/modules/linear_model.html#logistic-regression\n",
      "  n_iter_i = _check_optimize_result(\n"
     ]
    }
   ],
   "source": [
    "score = cross_val_score(linear_model.LogisticRegression(random_state= 42), X, y, cv= kf, scoring=\"accuracy\")\n",
    "print(f'Scores for each fold are: {score}')\n",
    "print(f'Average score: {\"{:.2f}\".format(score.mean())}')"
   ]
  },
  {
   "cell_type": "markdown",
   "id": "44079cac",
   "metadata": {},
   "source": [
    "#### ВІДПОВІДЬ: так як дані нашого датасету сбалансовані ми використали 5-факторну крос валідацію, яка покращила нашу модель."
   ]
  }
 ],
 "metadata": {
  "kernelspec": {
   "display_name": "Python 3 (ipykernel)",
   "language": "python",
   "name": "python3"
  },
  "language_info": {
   "codemirror_mode": {
    "name": "ipython",
    "version": 3
   },
   "file_extension": ".py",
   "mimetype": "text/x-python",
   "name": "python",
   "nbconvert_exporter": "python",
   "pygments_lexer": "ipython3",
   "version": "3.10.8"
  }
 },
 "nbformat": 4,
 "nbformat_minor": 5
}
